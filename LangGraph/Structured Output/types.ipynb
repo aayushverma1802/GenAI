{
 "cells": [
  {
   "cell_type": "code",
   "execution_count": 11,
   "metadata": {},
   "outputs": [
    {
     "data": {
      "text/plain": [
       "RunnableBinding(bound=ChatGoogleGenerativeAI(model='models/gemini-2.0-flash', google_api_key=SecretStr('**********'), client=<google.ai.generativelanguage_v1beta.services.generative_service.client.GenerativeServiceClient object at 0x000002A5D1980CD0>, default_metadata=()), kwargs={'tools': [{'type': 'function', 'function': {'name': 'Country', 'description': 'Information about the country', 'parameters': {'properties': {'name': {'description': 'name of the country', 'type': 'string'}, 'language': {'description': 'Language of the country', 'type': 'string'}, 'capital': {'description': 'Capital of the country', 'type': 'string'}}, 'required': ['name', 'language', 'capital'], 'type': 'object'}}}], 'tool_choice': 'Country'}, config={}, config_factories=[])\n",
       "| PydanticToolsParser(first_tool_only=True, tools=[<class '__main__.Country'>])"
      ]
     },
     "execution_count": 11,
     "metadata": {},
     "output_type": "execute_result"
    }
   ],
   "source": [
    "from pydantic import BaseModel,Field\n",
    "from langchain_google_genai import ChatGoogleGenerativeAI\n",
    "\n",
    "llm=ChatGoogleGenerativeAI(model=\"gemini-2.0-flash\")\n",
    "\n",
    "class Country(BaseModel):\n",
    "    \"\"\"Information about the country\"\"\"\n",
    "    name: str=Field(description=\"name of the country\")\n",
    "    language: str=Field(description=\"Language of the country\")\n",
    "    capital: str=Field(description=\"Capital of the country\")\n",
    "\n",
    "structured_llm=llm.with_structured_output(Country)\n",
    "structured_llm"
   ]
  },
  {
   "cell_type": "code",
   "execution_count": 12,
   "metadata": {},
   "outputs": [
    {
     "data": {
      "text/plain": [
       "Country(name='France', language='French', capital='Paris')"
      ]
     },
     "execution_count": 12,
     "metadata": {},
     "output_type": "execute_result"
    }
   ],
   "source": [
    "structured_llm.invoke(\"Tell me about the France\")"
   ]
  },
  {
   "cell_type": "code",
   "execution_count": 14,
   "metadata": {},
   "outputs": [
    {
     "name": "stdout",
     "output_type": "stream",
     "text": [
      "setup='Why did the cat join the Red Cross?' punchline=\"Because they're purr-fect!\" rating=None\n"
     ]
    }
   ],
   "source": [
    "# from typing_extensions import Annotated, TypedDict\n",
    "# from typing import Optional\n",
    "\n",
    "\n",
    "# # TypedDict\n",
    "# class Joke(TypedDict):\n",
    "#     \"\"\"Joke to tell user.\"\"\"\n",
    "\n",
    "#     setup: Annotated[str, ..., \"The setup of the joke\"]\n",
    "\n",
    "#     # Alternatively, we could have specified setup as:\n",
    "\n",
    "#     # setup: str                    # no default, no description\n",
    "#     # setup: Annotated[str, ...]    # no default, no description\n",
    "#     # setup: Annotated[str, \"foo\"]  # default, no description\n",
    "\n",
    "#     punchline: Annotated[str, ..., \"The punchline of the joke\"]\n",
    "#     rating: Annotated[Optional[int], None, \"How funny the joke is, from 1 to 10\"]\n",
    "\n",
    "\n",
    "# structured_llm = llm.with_structured_output(Joke)\n",
    "\n",
    "# structured_llm.invoke(\"Tell me a joke about cats\")\n",
    "from pydantic import BaseModel, Field\n",
    "from typing import Optional\n",
    "from langchain_google_genai import ChatGoogleGenerativeAI\n",
    "\n",
    "llm = ChatGoogleGenerativeAI(model=\"gemini-2.0-flash\")\n",
    "\n",
    "# Use Pydantic BaseModel instead of TypedDict\n",
    "class Joke(BaseModel):\n",
    "    \"\"\"Joke to tell user.\"\"\"\n",
    "    setup: str = Field(..., description=\"The setup of the joke\")\n",
    "    punchline: str = Field(..., description=\"The punchline of the joke\")\n",
    "    rating: Optional[int] = Field(None, description=\"How funny the joke is, from 1 to 10\")\n",
    "\n",
    "# Create structured output chain\n",
    "structured_llm = llm.with_structured_output(Joke)\n",
    "\n",
    "# Call the model\n",
    "response = structured_llm.invoke(\"Tell me a joke about cats\")\n",
    "\n",
    "print(response)\n"
   ]
  },
  {
   "cell_type": "code",
   "execution_count": null,
   "metadata": {},
   "outputs": [
    {
     "name": "stderr",
     "output_type": "stream",
     "text": [
      "Key 'parameters' is not supported in schema, ignoring\n"
     ]
    },
    {
     "data": {
      "text/plain": [
       "[{'args': {'punchline': \"Because they're purr-fect!\",\n",
       "   'setup': 'Why are cats such great comedians?'},\n",
       "  'type': 'joke'}]"
      ]
     },
     "execution_count": 8,
     "metadata": {},
     "output_type": "execute_result"
    }
   ],
   "source": [
    "json_schema = {\n",
    "    \"title\": \"joke\",\n",
    "    \"description\": \"Joke to tell user.\",\n",
    "    \"type\": \"object\",\n",
    "    \"properties\": {\n",
    "        \"setup\": {\n",
    "            \"type\": \"string\",\n",
    "            \"description\": \"The setup of the joke\",\n",
    "        },\n",
    "        \"punchline\": {\n",
    "            \"type\": \"string\",\n",
    "            \"description\": \"The punchline to the joke\",\n",
    "        },\n",
    "        \"rating\": {\n",
    "            \"type\": \"integer\",\n",
    "            \"description\": \"How funny the joke is, from 1 to 10\",\n",
    "            \"default\": None,\n",
    "        },\n",
    "    },\n",
    "    \"required\": [\"setup\", \"punchline\"],\n",
    "}\n",
    "structured_llm = llm.with_structured_output(json_schema)\n",
    "\n",
    "structured_llm.invoke(\"Tell me a joke about cats\")"
   ]
  },
  {
   "cell_type": "code",
   "execution_count": null,
   "metadata": {},
   "outputs": [],
   "source": []
  }
 ],
 "metadata": {
  "kernelspec": {
   "display_name": "venv",
   "language": "python",
   "name": "python3"
  },
  "language_info": {
   "codemirror_mode": {
    "name": "ipython",
    "version": 3
   },
   "file_extension": ".py",
   "mimetype": "text/x-python",
   "name": "python",
   "nbconvert_exporter": "python",
   "pygments_lexer": "ipython3",
   "version": "3.11.7"
  }
 },
 "nbformat": 4,
 "nbformat_minor": 2
}
